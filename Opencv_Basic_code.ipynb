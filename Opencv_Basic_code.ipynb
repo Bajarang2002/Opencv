{
 "cells": [
  {
   "cell_type": "code",
   "execution_count": 5,
   "id": "a27f4821",
   "metadata": {},
   "outputs": [],
   "source": [
    "import cv2"
   ]
  },
  {
   "cell_type": "code",
   "execution_count": 11,
   "id": "b3cc405c",
   "metadata": {},
   "outputs": [
    {
     "data": {
      "text/plain": [
       "<function destroyWindow>"
      ]
     },
     "execution_count": 11,
     "metadata": {},
     "output_type": "execute_result"
    }
   ],
   "source": [
    "imag = cv2.imread(\"imanature1.jpg\")\n",
    "img = cv2.resize(imag,(3,200))\n",
    "cv2.imshow(\"Nature imag1\",imag)\n",
    "cv2.waitKey(10000)\n",
    "cv2.destroyAllWindows()\n",
    "cv2.destroyWindow\n"
   ]
  },
  {
   "cell_type": "code",
   "execution_count": null,
   "id": "8ba87a99",
   "metadata": {},
   "outputs": [],
   "source": []
  },
  {
   "cell_type": "code",
   "execution_count": null,
   "id": "cc118447",
   "metadata": {},
   "outputs": [],
   "source": []
  },
  {
   "cell_type": "code",
   "execution_count": null,
   "id": "6549e451",
   "metadata": {},
   "outputs": [],
   "source": []
  }
 ],
 "metadata": {
  "kernelspec": {
   "display_name": "Python 3 (ipykernel)",
   "language": "python",
   "name": "python3"
  },
  "language_info": {
   "codemirror_mode": {
    "name": "ipython",
    "version": 3
   },
   "file_extension": ".py",
   "mimetype": "text/x-python",
   "name": "python",
   "nbconvert_exporter": "python",
   "pygments_lexer": "ipython3",
   "version": "3.11.3"
  }
 },
 "nbformat": 4,
 "nbformat_minor": 5
}
