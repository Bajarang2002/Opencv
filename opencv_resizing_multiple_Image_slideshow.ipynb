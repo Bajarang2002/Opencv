{
 "cells": [
  {
   "cell_type": "code",
   "execution_count": 32,
   "id": "0c8979e5",
   "metadata": {},
   "outputs": [],
   "source": [
    "import cv2\n",
    "import numpy as np\n",
    "import os"
   ]
  },
  {
   "cell_type": "code",
   "execution_count": null,
   "id": "08e57b43",
   "metadata": {},
   "outputs": [],
   "source": [
    "## Resizing Image"
   ]
  },
  {
   "cell_type": "code",
   "execution_count": 7,
   "id": "9130ad66",
   "metadata": {},
   "outputs": [
    {
     "data": {
      "text/plain": [
       "-1"
      ]
     },
     "execution_count": 7,
     "metadata": {},
     "output_type": "execute_result"
    }
   ],
   "source": [
    "img = cv2.imread(r\"C:\\Users\\urp20\\OneDrive\\Pictures\\Image nature\\Imagnature2.jpg\")\n",
    "re_imag = cv2.resize(img,(500,400))\n",
    "cv2.imshow(\"Nature Image \",re_imag)\n",
    "cv2.waitKey(0)"
   ]
  },
  {
   "cell_type": "code",
   "execution_count": null,
   "id": "de2dbe25",
   "metadata": {},
   "outputs": [],
   "source": [
    "##Show multiple image"
   ]
  },
  {
   "cell_type": "code",
   "execution_count": 28,
   "id": "5c45c0fa",
   "metadata": {},
   "outputs": [
    {
     "data": {
      "text/plain": [
       "-1"
      ]
     },
     "execution_count": 28,
     "metadata": {},
     "output_type": "execute_result"
    }
   ],
   "source": [
    "img = cv2.imread(r\"C:\\Users\\urp20\\OneDrive\\Pictures\\Image nature\\Imagnature2.jpg\")\n",
    "re_imag = cv2.resize(img,(300,200))\n",
    "h =  np.hstack((re_imag,re_imag))\n",
    "cv2.imshow(\"Nature Image 1\",h)\n",
    "cv2.waitKey(0)"
   ]
  },
  {
   "cell_type": "code",
   "execution_count": 27,
   "id": "12490d22",
   "metadata": {},
   "outputs": [
    {
     "data": {
      "text/plain": [
       "-1"
      ]
     },
     "execution_count": 27,
     "metadata": {},
     "output_type": "execute_result"
    }
   ],
   "source": [
    "img1 = cv2.imread(r\"C:\\Users\\urp20\\OneDrive\\Pictures\\Image nature\\imagnature3.jpg\")\n",
    "re_imag1 = cv2.resize(img1,(300,200))\n",
    "v1 = np.vstack((re_imag1,re_imag1))\n",
    "cv2.imshow(\"Nature Image 2\",v1)\n",
    "cv2.waitKey(0)"
   ]
  },
  {
   "cell_type": "code",
   "execution_count": 26,
   "id": "3d88131d",
   "metadata": {},
   "outputs": [
    {
     "data": {
      "text/plain": [
       "-1"
      ]
     },
     "execution_count": 26,
     "metadata": {},
     "output_type": "execute_result"
    }
   ],
   "source": [
    "img = cv2.imread(r\"C:\\Users\\urp20\\OneDrive\\Pictures\\Image nature\\imagnature5.jpg\")\n",
    "re_imag = cv2.resize(img,(300,200))\n",
    "h =  np.hstack((re_imag,re_imag))\n",
    "v = np.vstack((h,h))\n",
    "cv2.imshow(\"Nature Image 1\",v)\n",
    "cv2.waitKey(0)"
   ]
  },
  {
   "cell_type": "code",
   "execution_count": null,
   "id": "e37fd875",
   "metadata": {},
   "outputs": [],
   "source": [
    "# Slideshow"
   ]
  },
  {
   "cell_type": "code",
   "execution_count": 33,
   "id": "18569198",
   "metadata": {},
   "outputs": [
    {
     "data": {
      "text/plain": [
       "['Imagnature2.jpg',\n",
       " 'imagnature3.jpg',\n",
       " 'imagnature4.jpg',\n",
       " 'imagnature5.jpg',\n",
       " 'Imanature1.jpg']"
      ]
     },
     "execution_count": 33,
     "metadata": {},
     "output_type": "execute_result"
    }
   ],
   "source": [
    "list_name = os.listdir(r\"C:\\Users\\urp20\\OneDrive\\Pictures\\Image nature\")\n",
    "list_name"
   ]
  },
  {
   "cell_type": "code",
   "execution_count": null,
   "id": "4fbec38e",
   "metadata": {},
   "outputs": [],
   "source": [
    "for name in list_name:\n",
    "    path =\"C:\\\\Users\\\\urp20\\\\OneDrive\\\\Pictures\\\\Image nature\"\n",
    "    s_img = path + \"\\\\\" +name\n",
    "    s_image = cv2.imread(s_img)\n",
    "    s_image1 = cv2.resize(s_image,(400,300))\n",
    "    cv2.imshow(\"Nature slideshow 1\",s_image1)\n",
    "    cv2.waitKey(0)"
   ]
  },
  {
   "cell_type": "code",
   "execution_count": null,
   "id": "abe52a2b",
   "metadata": {},
   "outputs": [],
   "source": []
  },
  {
   "cell_type": "code",
   "execution_count": null,
   "id": "ddb2c459",
   "metadata": {},
   "outputs": [],
   "source": []
  },
  {
   "cell_type": "code",
   "execution_count": null,
   "id": "77050cb2",
   "metadata": {},
   "outputs": [],
   "source": []
  }
 ],
 "metadata": {
  "kernelspec": {
   "display_name": "Python 3 (ipykernel)",
   "language": "python",
   "name": "python3"
  },
  "language_info": {
   "codemirror_mode": {
    "name": "ipython",
    "version": 3
   },
   "file_extension": ".py",
   "mimetype": "text/x-python",
   "name": "python",
   "nbconvert_exporter": "python",
   "pygments_lexer": "ipython3",
   "version": "3.11.3"
  }
 },
 "nbformat": 4,
 "nbformat_minor": 5
}
