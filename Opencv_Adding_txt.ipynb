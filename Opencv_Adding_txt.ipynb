{
 "cells": [
  {
   "cell_type": "code",
   "execution_count": 4,
   "id": "2271681e",
   "metadata": {},
   "outputs": [],
   "source": [
    "# Adding Text\n",
    "import cv2"
   ]
  },
  {
   "cell_type": "code",
   "execution_count": null,
   "id": "3ef8205a",
   "metadata": {},
   "outputs": [],
   "source": [
    "img_get = cv2.imread(r\"C:\\Users\\urp20\\OneDrive\\Pictures\\Image nature\\imagnature3.jpg\")\n",
    "img_get = cv2.resize(img_get,(400,200))\n",
    "\n",
    "txt = cv2.putText(img = img_get,\n",
    "                  text = \"Nature Joy\",\n",
    "                 org =(50,70),\n",
    "                 fontFace = cv2.FONT_HERSHEY_DUPLEX,\n",
    "                 fontScale =3,\n",
    "                 color =(0,0,255),\n",
    "                 thickness =3,\n",
    "                 lineType = cv2.LINE_8,\n",
    "                 bottomLeftOrigin=False)\n",
    "txt = cv2.putText(img = img_get,\n",
    "                  text = \"Nature Joy\",\n",
    "                 org =(50,70),\n",
    "                 fontFace = cv2.FONT_HERSHEY_DUPLEX,\n",
    "                 fontScale =3,\n",
    "                 color =(255,0,0),\n",
    "                 thickness =3,\n",
    "                 lineType = cv2.LINE_8,\n",
    "                 bottomLeftOrigin=True)\n",
    "               \n",
    "cv2.imshow(\"Image\",txt)\n",
    "cv2.waitKey(0)\n",
    "cv2.destroyAllWindows()\n",
    "\n",
    "\n",
    "\n",
    "    "
   ]
  },
  {
   "cell_type": "code",
   "execution_count": null,
   "id": "d384e1dd",
   "metadata": {},
   "outputs": [],
   "source": []
  },
  {
   "cell_type": "code",
   "execution_count": null,
   "id": "e398da5a",
   "metadata": {},
   "outputs": [],
   "source": []
  },
  {
   "cell_type": "code",
   "execution_count": null,
   "id": "44372587",
   "metadata": {},
   "outputs": [],
   "source": []
  },
  {
   "cell_type": "code",
   "execution_count": null,
   "id": "ea6ec3e0",
   "metadata": {},
   "outputs": [],
   "source": []
  }
 ],
 "metadata": {
  "kernelspec": {
   "display_name": "Python 3 (ipykernel)",
   "language": "python",
   "name": "python3"
  },
  "language_info": {
   "codemirror_mode": {
    "name": "ipython",
    "version": 3
   },
   "file_extension": ".py",
   "mimetype": "text/x-python",
   "name": "python",
   "nbconvert_exporter": "python",
   "pygments_lexer": "ipython3",
   "version": "3.11.3"
  }
 },
 "nbformat": 4,
 "nbformat_minor": 5
}
